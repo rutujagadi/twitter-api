{
 "cells": [
  {
   "cell_type": "code",
   "execution_count": 29,
   "id": "dcff74c6",
   "metadata": {},
   "outputs": [],
   "source": [
    "from textblob import TextBlob\n",
    "import numpy as np\n",
    "import pandas as pd\n",
    "import tweepy\n",
    "from nltk.sentiment.vader import SentimentIntensityAnalyzer\n"
   ]
  },
  {
   "cell_type": "code",
   "execution_count": 30,
   "id": "cedc873b",
   "metadata": {},
   "outputs": [],
   "source": [
    "consumerKey = \"qzXFFp4UpSQxLkmeVoDLEkv3b\"\n",
    "consumerSecret = \"UdrRKqKZ8CXP8bA4dFKuiZwz3VESQE1A4r3idWapTiWaZbNQTC\"\n",
    "accessToken = \"818238292353159169-yVRP0QJ5VzyAMXGlPHBtGSTiv55fTeB\"\n",
    "accessTokenSecret = \"PEKWZt64fjEKfuLF7S1nzf5oHFxbLMneeJS69ws2ystML\"\n",
    "auth = tweepy.OAuthHandler(consumerKey, consumerSecret)\n",
    "auth.set_access_token(accessToken, accessTokenSecret)\n",
    "api = tweepy.API(auth,wait_on_rate_limit=True)"
   ]
  },
  {
   "cell_type": "code",
   "execution_count": 31,
   "id": "b486b51d",
   "metadata": {},
   "outputs": [
    {
     "name": "stdout",
     "output_type": "stream",
     "text": [
      "Please enter hashtag to search:elonmusk\n",
      "Please enter Number of tweets : 100\n"
     ]
    }
   ],
   "source": [
    "keyword = input('Please enter hashtag to search:')\n",
    "noOfTweet = int(input ('Please enter Number of tweets : '))"
   ]
  },
  {
   "cell_type": "code",
   "execution_count": 32,
   "id": "a4f806cf",
   "metadata": {},
   "outputs": [],
   "source": [
    "tweets = tweepy.Cursor(api.search_tweets, q=keyword).items(noOfTweet)\n",
    "positive = 0\n",
    "negative = 0\n",
    "neutral = 0\n",
    "polarity = 0\n",
    "tweet_list = []\n",
    "neutral_list = []\n",
    "negative_list = []\n",
    "positive_list = []"
   ]
  },
  {
   "cell_type": "code",
   "execution_count": 33,
   "id": "100ccff6",
   "metadata": {},
   "outputs": [],
   "source": [
    "def perc(val, no):\n",
    "    return (val / no) * 100\n",
    "for tweet in tweets:\n",
    "    tweet_list.append(tweet.text)\n",
    "    analysis = TextBlob(tweet.text)\n",
    "    score = SentimentIntensityAnalyzer().polarity_scores(tweet.text)\n",
    "    neg = score['neg']\n",
    "    neu = score['neu']\n",
    "    pos = score['pos']\n",
    "    comp = score['compound']\n",
    "    polarity += analysis.sentiment.polarity\n",
    "    \n",
    "    if  neg > pos:\n",
    "        negative_list.append(tweet.text)\n",
    "        negative += 1\n",
    "\n",
    "    elif pos > neg:\n",
    "        positive_list.append(tweet.text)\n",
    "        positive += 1\n",
    "\n",
    "    elif pos == neg:\n",
    "        neutral_list.append(tweet.text)\n",
    "        neutral += 1\n",
    "    \n",
    "positive = perc(positive, noOfTweet)\n",
    "negative = perc(negative, noOfTweet)\n",
    "neutral = perc(neutral, noOfTweet)\n",
    "polarity = perc(polarity, noOfTweet)\n",
    "positive = format(positive, '.1f')\n",
    "negative = format(negative, '.1f')\n",
    "neutral = format(neutral, '.1f')"
   ]
  },
  {
   "cell_type": "code",
   "execution_count": 34,
   "id": "a8b5647d",
   "metadata": {},
   "outputs": [
    {
     "name": "stdout",
     "output_type": "stream",
     "text": [
      "total : 100\n",
      "positive:  42\n",
      "negative:  12\n",
      "neutral:  46\n"
     ]
    }
   ],
   "source": [
    "#Number of Tweets (Total, Positive, Negative, Neutral)\n",
    "tweet_list = pd.DataFrame(tweet_list)\n",
    "neutral_list = pd.DataFrame(neutral_list)\n",
    "negative_list = pd.DataFrame(negative_list)\n",
    "positive_list = pd.DataFrame(positive_list)\n",
    "print('total :' ,len(tweet_list))\n",
    "print('positive: ',len(positive_list))\n",
    "print('negative: ', len(negative_list))\n",
    "print('neutral: ',len(neutral_list))"
   ]
  },
  {
   "cell_type": "code",
   "execution_count": 35,
   "id": "b07817b7",
   "metadata": {},
   "outputs": [
    {
     "data": {
      "text/html": [
       "<div>\n",
       "<style scoped>\n",
       "    .dataframe tbody tr th:only-of-type {\n",
       "        vertical-align: middle;\n",
       "    }\n",
       "\n",
       "    .dataframe tbody tr th {\n",
       "        vertical-align: top;\n",
       "    }\n",
       "\n",
       "    .dataframe thead th {\n",
       "        text-align: right;\n",
       "    }\n",
       "</style>\n",
       "<table border=\"1\" class=\"dataframe\">\n",
       "  <thead>\n",
       "    <tr style=\"text-align: right;\">\n",
       "      <th></th>\n",
       "      <th>0</th>\n",
       "    </tr>\n",
       "  </thead>\n",
       "  <tbody>\n",
       "    <tr>\n",
       "      <th>0</th>\n",
       "      <td>RT @TFG_NFTS: Let us know what you think!\\n\\nE...</td>\n",
       "    </tr>\n",
       "    <tr>\n",
       "      <th>1</th>\n",
       "      <td>RT @HouseGOP: Hey, @elonmusk it's a great week...</td>\n",
       "    </tr>\n",
       "    <tr>\n",
       "      <th>2</th>\n",
       "      <td>RT @Lewaney_1: Recover my old  account of Twit...</td>\n",
       "    </tr>\n",
       "    <tr>\n",
       "      <th>3</th>\n",
       "      <td>RT @ApiInu: API Inu was launched the same day ...</td>\n",
       "    </tr>\n",
       "    <tr>\n",
       "      <th>4</th>\n",
       "      <td>@laurenboebert @elonmusk Go back to school Bob...</td>\n",
       "    </tr>\n",
       "    <tr>\n",
       "      <th>...</th>\n",
       "      <td>...</td>\n",
       "    </tr>\n",
       "    <tr>\n",
       "      <th>95</th>\n",
       "      <td>@MargsMT @elonmusk @WileyCEO @elonmusk - 3 @Wi...</td>\n",
       "    </tr>\n",
       "    <tr>\n",
       "      <th>96</th>\n",
       "      <td>25th April should be declared 'Musk Day'. A da...</td>\n",
       "    </tr>\n",
       "    <tr>\n",
       "      <th>97</th>\n",
       "      <td>@AdamMGrant @elonmusk @Twitter Delegation is a...</td>\n",
       "    </tr>\n",
       "    <tr>\n",
       "      <th>98</th>\n",
       "      <td>@sunnewstamil @elonmusk @Twitter @paraga கருத்...</td>\n",
       "    </tr>\n",
       "    <tr>\n",
       "      <th>99</th>\n",
       "      <td>https://t.co/6qJxEfmfAS https://t.co/z6MNjiRTsW</td>\n",
       "    </tr>\n",
       "  </tbody>\n",
       "</table>\n",
       "<p>100 rows × 1 columns</p>\n",
       "</div>"
      ],
      "text/plain": [
       "                                                    0\n",
       "0   RT @TFG_NFTS: Let us know what you think!\\n\\nE...\n",
       "1   RT @HouseGOP: Hey, @elonmusk it's a great week...\n",
       "2   RT @Lewaney_1: Recover my old  account of Twit...\n",
       "3   RT @ApiInu: API Inu was launched the same day ...\n",
       "4   @laurenboebert @elonmusk Go back to school Bob...\n",
       "..                                                ...\n",
       "95  @MargsMT @elonmusk @WileyCEO @elonmusk - 3 @Wi...\n",
       "96  25th April should be declared 'Musk Day'. A da...\n",
       "97  @AdamMGrant @elonmusk @Twitter Delegation is a...\n",
       "98  @sunnewstamil @elonmusk @Twitter @paraga கருத்...\n",
       "99    https://t.co/6qJxEfmfAS https://t.co/z6MNjiRTsW\n",
       "\n",
       "[100 rows x 1 columns]"
      ]
     },
     "execution_count": 35,
     "metadata": {},
     "output_type": "execute_result"
    }
   ],
   "source": [
    "tweet_list"
   ]
  },
  {
   "cell_type": "code",
   "execution_count": null,
   "id": "495db0d0",
   "metadata": {},
   "outputs": [],
   "source": []
  }
 ],
 "metadata": {
  "kernelspec": {
   "display_name": "Python 3",
   "language": "python",
   "name": "python3"
  },
  "language_info": {
   "codemirror_mode": {
    "name": "ipython",
    "version": 3
   },
   "file_extension": ".py",
   "mimetype": "text/x-python",
   "name": "python",
   "nbconvert_exporter": "python",
   "pygments_lexer": "ipython3",
   "version": "3.8.8"
  }
 },
 "nbformat": 4,
 "nbformat_minor": 5
}
